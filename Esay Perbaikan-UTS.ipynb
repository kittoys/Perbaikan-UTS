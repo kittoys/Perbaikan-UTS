{
 "cells": [
  {
   "cell_type": "code",
   "execution_count": 45,
   "metadata": {},
   "outputs": [
    {
     "name": "stdout",
     "output_type": "stream",
     "text": [
      "masukan email anda: Rizki.ramadan23@gmail.com\n",
      "False\n"
     ]
    }
   ],
   "source": [
    "#1\n",
    "gmail = input ('masukan email anda: ')\n",
    "pos_at = 0\n",
    "pos_titik = 0\n",
    "pos_at = gmail.find('@')\n",
    "pos_titik = gmail.find('.')\n",
    "\n",
    "print (pos_at < pos_titik)"
   ]
  },
  {
   "cell_type": "code",
   "execution_count": 47,
   "metadata": {},
   "outputs": [
    {
     "name": "stdout",
     "output_type": "stream",
     "text": [
      "masukan kalimat Belajar Pemerograman Python Sangat Mudah Sekali\n",
      " B3l4j4r P3m3rogr4m4n Python 54ng4t Mud4h 53k4li\n"
     ]
    }
   ],
   "source": [
    "kalimat = input ('masukan kalimat')\n",
    "i = 0\n",
    "kata = ''\n",
    "for i in range (len(kalimat)):\n",
    "    if kalimat [i] == 'a' or kalimat [i] == 'A':\n",
    "        kata = kata + '4'\n",
    "    elif kalimat [i] == 'e' or kalimat [i] == 'E':\n",
    "        kata = kata + '3'\n",
    "    elif kalimat [i] == 'L':\n",
    "        kata = kata + '7'\n",
    "    elif kalimat [i] == 'S':\n",
    "        kata = kata + '5'\n",
    "    else:\n",
    "        kata = kata + kalimat [i]\n",
    "print(kata)"
   ]
  }
 ],
 "metadata": {
  "kernelspec": {
   "display_name": "Python 3",
   "language": "python",
   "name": "python3"
  },
  "language_info": {
   "codemirror_mode": {
    "name": "ipython",
    "version": 3
   },
   "file_extension": ".py",
   "mimetype": "text/x-python",
   "name": "python",
   "nbconvert_exporter": "python",
   "pygments_lexer": "ipython3",
   "version": "3.8.5"
  }
 },
 "nbformat": 4,
 "nbformat_minor": 4
}
